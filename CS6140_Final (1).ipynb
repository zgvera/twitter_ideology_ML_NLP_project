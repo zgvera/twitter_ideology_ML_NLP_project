{
 "cells": [
  {
   "cell_type": "code",
   "execution_count": 1,
   "metadata": {
    "ExecuteTime": {
     "end_time": "2023-04-27T17:36:39.344174Z",
     "start_time": "2023-04-27T17:36:37.776372Z"
    }
   },
   "outputs": [],
   "source": [
    "import numpy as np\n",
    "import matplotlib.pyplot as plt\n",
    "import pandas as pd\n",
    "import nltk\n",
    "from tqdm import tqdm\n",
    "from sentence_transformers import SentenceTransformer\n",
    "from transformers import AutoTokenizer\n",
    "from sklearn.model_selection import train_test_split\n",
    "from sklearn.model_selection import KFold"
   ]
  },
  {
   "cell_type": "markdown",
   "metadata": {},
   "source": [
    "## Describe Data"
   ]
  },
  {
   "cell_type": "code",
   "execution_count": 82,
   "metadata": {
    "ExecuteTime": {
     "end_time": "2023-04-28T03:55:48.580699Z",
     "start_time": "2023-04-28T03:55:48.451076Z"
    }
   },
   "outputs": [],
   "source": [
    "df_tweet = pd.read_csv('./ExtractedTweets.csv')"
   ]
  },
  {
   "cell_type": "code",
   "execution_count": 3,
   "metadata": {
    "ExecuteTime": {
     "end_time": "2023-04-27T17:39:15.155248Z",
     "start_time": "2023-04-27T17:39:14.942830Z"
    }
   },
   "outputs": [
    {
     "data": {
      "text/plain": [
       "(array([0, 1]), [Text(0, 0, 'Democrat'), Text(1, 0, 'Republican')])"
      ]
     },
     "execution_count": 3,
     "metadata": {},
     "output_type": "execute_result"
    },
    {
     "data": {
      "image/png": "[encoded data removed]",
      "text/plain": [
       "<Figure size 1000x600 with 1 Axes>"
      ]
     },
     "metadata": {},
     "output_type": "display_data"
    }
   ],
   "source": [
    "#calculate sum of points for each team\n",
    "#calculate sum of points for each team\n",
    "df_groups = df_tweet.groupby(['Party'])['Party'].count().reindex(['Democrat', 'Republican'])\n",
    "\n",
    "#create bar plot with custom aesthetics\n",
    "ax = df_groups.plot(kind='bar', title='Number of Tweets for Each Party', ylabel='Num Tweets', xlabel='Party', figsize=(10, 6))\n",
    "\n",
    "#rotate x-axis ticks vertically\n",
    "plt.xticks(rotation=0)\n",
    "# plt.savefig('party_dis.png', bbox_inches = 'tight')"
   ]
  },
  {
   "cell_type": "code",
   "execution_count": 4,
   "metadata": {
    "ExecuteTime": {
     "end_time": "2023-04-27T17:39:16.442129Z",
     "start_time": "2023-04-27T17:39:16.419375Z"
    }
   },
   "outputs": [],
   "source": [
    "df_tweet_final = df_tweet[df_tweet['Tweet'].apply(lambda x: isinstance(x, str))].reset_index()"
   ]
  },
  {
   "cell_type": "code",
   "execution_count": 15,
   "metadata": {
    "ExecuteTime": {
     "end_time": "2023-04-25T00:40:13.257944Z",
     "start_time": "2023-04-25T00:40:06.342482Z"
    }
   },
   "outputs": [
    {
     "data": {
      "application/vnd.jupyter.widget-view+json": {
       "model_id": "ddc945c9e32e4b77b18d502b3fea865b",
       "version_major": 2,
       "version_minor": 0
      },
      "text/plain": [
       "Downloading (…)lve/main/config.json:   0%|          | 0.00/558 [00:00<?, ?B/s]"
      ]
     },
     "metadata": {},
     "output_type": "display_data"
    },
    {
     "data": {
      "application/vnd.jupyter.widget-view+json": {
       "model_id": "a1a46ad7aba043f19eecccc4d8266c7b",
       "version_major": 2,
       "version_minor": 0
      },
      "text/plain": [
       "Downloading (…)solve/main/vocab.txt:   0%|          | 0.00/843k [00:00<?, ?B/s]"
      ]
     },
     "metadata": {},
     "output_type": "display_data"
    },
    {
     "data": {
      "application/vnd.jupyter.widget-view+json": {
       "model_id": "ba273445929b49bdb67d8261e7f2a5e2",
       "version_major": 2,
       "version_minor": 0
      },
      "text/plain": [
       "Downloading (…)solve/main/bpe.codes:   0%|          | 0.00/1.08M [00:00<?, ?B/s]"
      ]
     },
     "metadata": {},
     "output_type": "display_data"
    },
    {
     "name": "stderr",
     "output_type": "stream",
     "text": [
      "emoji is not installed, thus not converting emoticons or emojis into text. Install emoji: pip3 install emoji==0.6.0\n",
      "Special tokens have been added in the vocabulary, make sure the associated word embeddings are fine-tuned or trained.\n"
     ]
    },
    {
     "data": {
      "application/vnd.jupyter.widget-view+json": {
       "model_id": "e745d337903042c8af7421a61e25de5c",
       "version_major": 2,
       "version_minor": 0
      },
      "text/plain": [
       "Downloading (…)7f4ef/.gitattributes:   0%|          | 0.00/391 [00:00<?, ?B/s]"
      ]
     },
     "metadata": {},
     "output_type": "display_data"
    },
    {
     "data": {
      "application/vnd.jupyter.widget-view+json": {
       "model_id": "2c917bed68954b9b8863e22d0910cd72",
       "version_major": 2,
       "version_minor": 0
      },
      "text/plain": [
       "Downloading (…)_Pooling/config.json:   0%|          | 0.00/190 [00:00<?, ?B/s]"
      ]
     },
     "metadata": {},
     "output_type": "display_data"
    },
    {
     "data": {
      "application/vnd.jupyter.widget-view+json": {
       "model_id": "9674e037ef3e4159a5944a738facbdba",
       "version_major": 2,
       "version_minor": 0
      },
      "text/plain": [
       "Downloading (…)f279f7f4ef/README.md:   0%|          | 0.00/3.74k [00:00<?, ?B/s]"
      ]
     },
     "metadata": {},
     "output_type": "display_data"
    },
    {
     "data": {
      "application/vnd.jupyter.widget-view+json": {
       "model_id": "c7121c68bd3f4351b07a45c2193f4402",
       "version_major": 2,
       "version_minor": 0
      },
      "text/plain": [
       "Downloading (…)79f7f4ef/config.json:   0%|          | 0.00/718 [00:00<?, ?B/s]"
      ]
     },
     "metadata": {},
     "output_type": "display_data"
    },
    {
     "data": {
      "application/vnd.jupyter.widget-view+json": {
       "model_id": "f126cc5c048141749d49bdfcbbf314ea",
       "version_major": 2,
       "version_minor": 0
      },
      "text/plain": [
       "Downloading (…)ce_transformers.json:   0%|          | 0.00/122 [00:00<?, ?B/s]"
      ]
     },
     "metadata": {},
     "output_type": "display_data"
    },
    {
     "data": {
      "application/vnd.jupyter.widget-view+json": {
       "model_id": "0ece952aeff64d928589a86fa26533e0",
       "version_major": 2,
       "version_minor": 0
      },
      "text/plain": [
       "Downloading (…)279f7f4ef/merges.txt:   0%|          | 0.00/456k [00:00<?, ?B/s]"
      ]
     },
     "metadata": {},
     "output_type": "display_data"
    },
    {
     "data": {
      "application/vnd.jupyter.widget-view+json": {
       "model_id": "e346caf55cea4360a6b5eb539f7a6954",
       "version_major": 2,
       "version_minor": 0
      },
      "text/plain": [
       "Downloading pytorch_model.bin:   0%|          | 0.00/329M [00:00<?, ?B/s]"
      ]
     },
     "metadata": {},
     "output_type": "display_data"
    },
    {
     "data": {
      "application/vnd.jupyter.widget-view+json": {
       "model_id": "4d6491d0edfa472487fb83c55a9e80e5",
       "version_major": 2,
       "version_minor": 0
      },
      "text/plain": [
       "Downloading (…)nce_bert_config.json:   0%|          | 0.00/53.0 [00:00<?, ?B/s]"
      ]
     },
     "metadata": {},
     "output_type": "display_data"
    },
    {
     "data": {
      "application/vnd.jupyter.widget-view+json": {
       "model_id": "6524e803a78f49c9a4f46047816b04f0",
       "version_major": 2,
       "version_minor": 0
      },
      "text/plain": [
       "Downloading (…)cial_tokens_map.json:   0%|          | 0.00/239 [00:00<?, ?B/s]"
      ]
     },
     "metadata": {},
     "output_type": "display_data"
    },
    {
     "data": {
      "application/vnd.jupyter.widget-view+json": {
       "model_id": "cfa5ef8e479e4df89d8469dad9cdb4a6",
       "version_major": 2,
       "version_minor": 0
      },
      "text/plain": [
       "Downloading (…)7f4ef/tokenizer.json:   0%|          | 0.00/1.36M [00:00<?, ?B/s]"
      ]
     },
     "metadata": {},
     "output_type": "display_data"
    },
    {
     "data": {
      "application/vnd.jupyter.widget-view+json": {
       "model_id": "c255f58d347047a68e7bb752e24f3a35",
       "version_major": 2,
       "version_minor": 0
      },
      "text/plain": [
       "Downloading (…)okenizer_config.json:   0%|          | 0.00/1.35k [00:00<?, ?B/s]"
      ]
     },
     "metadata": {},
     "output_type": "display_data"
    },
    {
     "data": {
      "application/vnd.jupyter.widget-view+json": {
       "model_id": "aaabe9cf30734d5fbd7fd4623395f9c2",
       "version_major": 2,
       "version_minor": 0
      },
      "text/plain": [
       "Downloading (…)279f7f4ef/vocab.json:   0%|          | 0.00/798k [00:00<?, ?B/s]"
      ]
     },
     "metadata": {},
     "output_type": "display_data"
    },
    {
     "data": {
      "application/vnd.jupyter.widget-view+json": {
       "model_id": "3f53a2e8a5a7469d9b256436290b7efd",
       "version_major": 2,
       "version_minor": 0
      },
      "text/plain": [
       "Downloading (…)9f7f4ef/modules.json:   0%|          | 0.00/229 [00:00<?, ?B/s]"
      ]
     },
     "metadata": {},
     "output_type": "display_data"
    }
   ],
   "source": [
    "tokenizer = AutoTokenizer.from_pretrained(\"vinai/bertweet-base\", use_fast=False)\n",
    "roberta_model = SentenceTransformer('paraphrase-distilroberta-base-v1')\n",
    "\n",
    "def normalize_encode_tweet(tweet):\n",
    "    norm = tokenizer.normalizeTweet(tweet)\n",
    "    encoded = roberta_model.encode(norm)\n",
    "    return encoded"
   ]
  },
  {
   "cell_type": "code",
   "execution_count": null,
   "metadata": {},
   "outputs": [],
   "source": [
    "# show progress\n",
    "tqdm.pandas()\n",
    "# https://www.geeksforgeeks.org/create-a-new-column-in-pandas-dataframe-based-on-the-existing-columns/\n",
    "df_tweet_final['embedding'] =  df_tweet_final.progress_apply(lambda row: normalize_encode_tweet(row.Tweet), axis=1)"
   ]
  },
  {
   "cell_type": "code",
   "execution_count": null,
   "metadata": {},
   "outputs": [],
   "source": [
    "df_tweet_final.to_csv('tweet_roberta_embeddings.csv', index=False)"
   ]
  },
  {
   "cell_type": "markdown",
   "metadata": {},
   "source": [
    "## Load trained embeddings"
   ]
  },
  {
   "cell_type": "markdown",
   "metadata": {},
   "source": [
    "We recommend you to start here by importing the trained embeddings. Which can be found https://drive.google.com/file/d/1qogx047dUHZXd6yapjvxqNdGuBlUUZBZ/view?usp=sharing"
   ]
  },
  {
   "cell_type": "code",
   "execution_count": 5,
   "metadata": {
    "ExecuteTime": {
     "end_time": "2023-04-27T17:39:26.757525Z",
     "start_time": "2023-04-27T17:39:20.465674Z"
    }
   },
   "outputs": [],
   "source": [
    "df_tweet_final = pd.read_csv('./tweet_roberta_embeddings.csv', index_col=False)"
   ]
  },
  {
   "cell_type": "code",
   "execution_count": 6,
   "metadata": {
    "ExecuteTime": {
     "end_time": "2023-04-27T17:39:44.689502Z",
     "start_time": "2023-04-27T17:39:31.322026Z"
    }
   },
   "outputs": [],
   "source": [
    "df_tweet_final = df_tweet_final.drop('index', axis=1)\n",
    "df_tweet_final = df_tweet_final.drop('Handle', axis=1)\n",
    "df_tweet_final = df_tweet_final.dropna()\n",
    "X = df_tweet_final['embedding'].astype(str).apply(lambda s: ([float(x.strip(\" \\n\")) for x in s.strip(\"[]\").split()])).values\n",
    "y = df_tweet_final['Party'].map({'Democrat': 0, 'Republican': 1}).values\n",
    "X = np.vstack(X)"
   ]
  },
  {
   "cell_type": "code",
   "execution_count": 7,
   "metadata": {
    "ExecuteTime": {
     "end_time": "2023-04-27T17:39:45.569463Z",
     "start_time": "2023-04-27T17:39:45.494715Z"
    }
   },
   "outputs": [],
   "source": [
    "X_train, X_test, y_train, y_test = train_test_split(X, y, test_size = 0.3, random_state=1)"
   ]
  },
  {
   "cell_type": "markdown",
   "metadata": {},
   "source": [
    "Evaluation functions"
   ]
  },
  {
   "cell_type": "code",
   "execution_count": 8,
   "metadata": {
    "ExecuteTime": {
     "end_time": "2023-04-27T17:39:48.569265Z",
     "start_time": "2023-04-27T17:39:48.558953Z"
    }
   },
   "outputs": [],
   "source": [
    "def predict_evaluation(model, y_pred):\n",
    "    # metrics\n",
    "    accuracy = accuracy_score(y_test, y_pred)\n",
    "    precision = precision_score(y_test, y_pred)\n",
    "    recall = recall_score(y_test, y_pred)\n",
    "    f1 = f1_score(y_test, y_pred)\n",
    "\n",
    "    print(f'Accuracy:  {accuracy}')\n",
    "    print(f'Precision: {precision}')\n",
    "    print(f'Recall:    {recall}')\n",
    "    print(f'F1 Score:  {f1}')\n",
    "\n",
    "def accuracy_evaluation(model, y_pred, y_train_pred):\n",
    "    # metrics\n",
    "    test_accuracy = accuracy_score(y_test, y_pred)\n",
    "    train_accuracy = accuracy_score(y_train, y_train_pred)\n",
    "\n",
    "    print(f'Training Accuracy: {train_accuracy}')\n",
    "    print(f'Testing Accuracy:  {test_accuracy}')"
   ]
  },
  {
   "cell_type": "markdown",
   "metadata": {},
   "source": [
    "## Logistic Regression"
   ]
  },
  {
   "cell_type": "code",
   "execution_count": 9,
   "metadata": {
    "ExecuteTime": {
     "end_time": "2023-04-27T17:39:51.963590Z",
     "start_time": "2023-04-27T17:39:51.958325Z"
    }
   },
   "outputs": [],
   "source": [
    "from sklearn.linear_model import LogisticRegression\n",
    "from sklearn.metrics import accuracy_score, f1_score, precision_score, recall_score"
   ]
  },
  {
   "cell_type": "code",
   "execution_count": 10,
   "metadata": {
    "ExecuteTime": {
     "end_time": "2023-04-27T17:39:52.443287Z",
     "start_time": "2023-04-27T17:39:52.438699Z"
    }
   },
   "outputs": [],
   "source": [
    "log_reg = LogisticRegression(max_iter=1000)"
   ]
  },
  {
   "cell_type": "code",
   "execution_count": 11,
   "metadata": {
    "ExecuteTime": {
     "end_time": "2023-04-27T17:40:03.954055Z",
     "start_time": "2023-04-27T17:39:53.395549Z"
    }
   },
   "outputs": [],
   "source": [
    "# train model\n",
    "trained_model_log = log_reg.fit(X_train, y_train)\n",
    "# predict\n",
    "y_pred_log = trained_model_log.predict(X_test)\n",
    "y_train_pred_log = trained_model_log.predict(X_train)"
   ]
  },
  {
   "cell_type": "code",
   "execution_count": 12,
   "metadata": {
    "ExecuteTime": {
     "end_time": "2023-04-27T17:40:17.337837Z",
     "start_time": "2023-04-27T17:40:17.282107Z"
    }
   },
   "outputs": [
    {
     "name": "stdout",
     "output_type": "stream",
     "text": [
      "Accuracy:  0.6860976173953273\n",
      "Precision: 0.6859809027777778\n",
      "Recall:    0.71386630532972\n",
      "F1 Score:  0.6996458610004427\n",
      "Training Accuracy: 0.6995423076287569\n",
      "Testing Accuracy:  0.6860976173953273\n"
     ]
    }
   ],
   "source": [
    "predict_evaluation(trained_model_log, y_pred_log)\n",
    "accuracy_evaluation(trained_model_log, y_pred_log, y_train_pred_log)                  "
   ]
  },
  {
   "cell_type": "markdown",
   "metadata": {},
   "source": [
    "## SVM"
   ]
  },
  {
   "cell_type": "code",
   "execution_count": 13,
   "metadata": {
    "ExecuteTime": {
     "end_time": "2023-04-27T17:40:19.295841Z",
     "start_time": "2023-04-27T17:40:19.290932Z"
    }
   },
   "outputs": [],
   "source": [
    "from sklearn.svm import SVC"
   ]
  },
  {
   "cell_type": "code",
   "execution_count": 14,
   "metadata": {
    "ExecuteTime": {
     "end_time": "2023-04-27T17:40:19.980303Z",
     "start_time": "2023-04-27T17:40:19.975796Z"
    }
   },
   "outputs": [],
   "source": [
    "svclassifier = SVC(kernel='linear')"
   ]
  },
  {
   "cell_type": "code",
   "execution_count": null,
   "metadata": {
    "pycharm": {
     "is_executing": true
    }
   },
   "outputs": [],
   "source": [
    "# train model\n",
    "trained_model = svclassifier.fit(X_train, y_train)\n",
    "# predict\n",
    "y_pred = trained_model.predict(X_test)"
   ]
  },
  {
   "cell_type": "code",
   "execution_count": 20,
   "metadata": {},
   "outputs": [],
   "source": [
    "# predict training data\n",
    "y_train_pred = trained_model.predict(X_train)"
   ]
  },
  {
   "cell_type": "code",
   "execution_count": 26,
   "metadata": {},
   "outputs": [
    {
     "name": "stdout",
     "output_type": "stream",
     "text": [
      "Accuracy:  0.6874084355000386\n",
      "Precision: 0.6826393789696542\n",
      "Recall:    0.7281692261367058\n",
      "F1 Score:  0.7046696291979311\n"
     ]
    }
   ],
   "source": [
    "predict_evaluation(trained_model, y_pred)"
   ]
  },
  {
   "cell_type": "code",
   "execution_count": 33,
   "metadata": {},
   "outputs": [
    {
     "name": "stdout",
     "output_type": "stream",
     "text": [
      "Training Accuracy: 0.7044827415277342\n",
      "Testing Accuracy:  0.6874084355000386\n"
     ]
    }
   ],
   "source": [
    "accuracy_evaluation(trained_model, y_pred, y_train_pred)"
   ]
  },
  {
   "cell_type": "markdown",
   "metadata": {},
   "source": [
    "## Neural Network"
   ]
  },
  {
   "cell_type": "code",
   "execution_count": 15,
   "metadata": {
    "ExecuteTime": {
     "end_time": "2023-04-27T17:40:29.232462Z",
     "start_time": "2023-04-27T17:40:29.224453Z"
    }
   },
   "outputs": [],
   "source": [
    "import torch\n",
    "import torch.nn as nn\n",
    "import torch.optim as optim\n",
    "from torch.utils.data import Dataset, DataLoader\n",
    "import torch.nn.functional as F"
   ]
  },
  {
   "cell_type": "code",
   "execution_count": 64,
   "metadata": {
    "ExecuteTime": {
     "end_time": "2023-04-27T23:35:13.003565Z",
     "start_time": "2023-04-27T23:35:12.962446Z"
    }
   },
   "outputs": [],
   "source": [
    "def train_model(model,num_epochs,train_loader,test_loader):\n",
    "    device = torch.device(\"cuda\" if torch.cuda.is_available() else \"cpu\")\n",
    "    model.to(device)\n",
    "\n",
    "    criterion = nn.CrossEntropyLoss()\n",
    "    optimizer = torch.optim.Adam(model.parameters(), lr=0.001)\n",
    "    epoch_loss_list = []\n",
    "    acc_train_list = []\n",
    "    acc_val_list = []\n",
    "\n",
    "    for epoch in range(num_epochs):\n",
    "        model.train()\n",
    "        running_loss = 0.0\n",
    "        correct_train = 0\n",
    "        total_train = 0\n",
    "\n",
    "        for inputs, labels in train_loader:\n",
    "            inputs, labels = inputs.to(device), labels.to(device)\n",
    "\n",
    "            optimizer.zero_grad()\n",
    "\n",
    "            outputs = model(inputs)\n",
    "            loss = criterion(outputs, labels)\n",
    "            loss.backward()\n",
    "            optimizer.step()\n",
    "\n",
    "            running_loss += loss.item() * inputs.size(0)\n",
    "\n",
    "            # Calculate training accuracy\n",
    "            _, predicted = torch.max(outputs.data, 1)\n",
    "            total_train += labels.size(0)\n",
    "            correct_train += (predicted == labels).sum().item()\n",
    "\n",
    "        epoch_loss = running_loss / len(train_loader.dataset)\n",
    "        epoch_loss_list.append(float(epoch_loss))\n",
    "        train_acc = 100 * correct_train / total_train\n",
    "        acc_train_list.append(float(train_acc))\n",
    "\n",
    "        # Validation\n",
    "        model.eval()\n",
    "        correct_val = 0\n",
    "        total_val = 0\n",
    "        with torch.no_grad():\n",
    "            for inputs, labels in test_loader:\n",
    "                inputs, labels = inputs.to(device), labels.to(device)\n",
    "\n",
    "                outputs = model(inputs)\n",
    "                _, predicted = torch.max(outputs.data, 1)\n",
    "                total_val += labels.size(0)\n",
    "                correct_val += (predicted == labels).sum().item()\n",
    "\n",
    "        val_acc = 100 * correct_val / total_val\n",
    "        acc_val_list.append(float(val_acc))\n",
    "    print(\"Epoch [{}/{}], Loss: {:.4f}, Training Accuracy: {:.2f}%, Validation Accuracy: {:.2f}%\".format(epoch+1, num_epochs, epoch_loss, train_acc, val_acc))\n",
    "        #if epoch == num_epochs - 1:\n",
    "    return [val_acc, epoch_loss_list, acc_train_list, acc_val_list]"
   ]
  },
  {
   "cell_type": "markdown",
   "metadata": {},
   "source": [
    "## Feedforward"
   ]
  },
  {
   "cell_type": "code",
   "execution_count": 28,
   "metadata": {
    "ExecuteTime": {
     "end_time": "2023-04-27T19:00:22.418463Z",
     "start_time": "2023-04-27T19:00:22.279535Z"
    }
   },
   "outputs": [],
   "source": [
    "X_stack = np.vstack(X)\n",
    "device = torch.device(\"cuda:0\")"
   ]
  },
  {
   "cell_type": "code",
   "execution_count": 29,
   "metadata": {
    "ExecuteTime": {
     "end_time": "2023-04-27T19:00:22.986468Z",
     "start_time": "2023-04-27T19:00:22.895440Z"
    }
   },
   "outputs": [],
   "source": [
    "X_train, X_test, y_train, y_test = train_test_split(X, y, test_size = 0.3, random_state=1)"
   ]
  },
  {
   "cell_type": "code",
   "execution_count": 19,
   "metadata": {
    "ExecuteTime": {
     "end_time": "2023-04-27T17:41:07.607657Z",
     "start_time": "2023-04-27T17:41:07.565438Z"
    }
   },
   "outputs": [],
   "source": [
    "class CustomDataset(Dataset):\n",
    "    def __init__(self, data, labels):\n",
    "        self.data = torch.tensor(data, dtype=torch.float32)\n",
    "        self.labels = torch.tensor(labels, dtype=torch.long)\n",
    "\n",
    "    def __len__(self):\n",
    "        return len(self.data)\n",
    "\n",
    "    def __getitem__(self, idx):\n",
    "        return self.data[idx], self.labels[idx]"
   ]
  },
  {
   "cell_type": "code",
   "execution_count": 74,
   "metadata": {
    "ExecuteTime": {
     "end_time": "2023-04-28T03:37:00.877878Z",
     "start_time": "2023-04-28T03:37:00.829638Z"
    }
   },
   "outputs": [],
   "source": [
    "torch_dataset_train = CustomDataset(X_train,y_train)\n",
    "torch_dataset_test = CustomDataset(X_test,y_test)\n",
    "train_loader = DataLoader(torch_dataset_train, batch_size=64, shuffle=True, num_workers=2)\n",
    "test_loader = DataLoader(torch_dataset_test, batch_size=64, shuffle=False, num_workers=2)"
   ]
  },
  {
   "cell_type": "code",
   "execution_count": 75,
   "metadata": {
    "ExecuteTime": {
     "end_time": "2023-04-28T03:37:03.873910Z",
     "start_time": "2023-04-28T03:37:03.865810Z"
    }
   },
   "outputs": [],
   "source": [
    "class FNN_Classifier(nn.Module):\n",
    "    def __init__(self, input_size, hidden_size, output_size=1):\n",
    "        super(FNN_Classifier, self).__init__()\n",
    "        self.fc1 = nn.Linear(input_size, hidden_size)\n",
    "        self.fc3 = nn.Linear(hidden_size, hidden_size)\n",
    "        self.fc4 = nn.Linear(hidden_size, output_size)\n",
    "\n",
    "    def forward(self, x):\n",
    "        x = F.relu(self.fc1(x))\n",
    "        x = F.relu(self.fc3(x))\n",
    "        x = F.dropout(x,0.2)\n",
    "        x = torch.sigmoid(self.fc4(x))\n",
    "\n",
    "        return x"
   ]
  },
  {
   "cell_type": "markdown",
   "metadata": {},
   "source": [
    "## 10-Fold Cross-Validation"
   ]
  },
  {
   "cell_type": "code",
   "execution_count": 76,
   "metadata": {
    "ExecuteTime": {
     "end_time": "2023-04-28T03:38:09.175404Z",
     "start_time": "2023-04-28T03:38:09.135060Z"
    }
   },
   "outputs": [],
   "source": [
    "#K_Fold Split\n",
    "n_splits = 10\n",
    "kf = KFold(n_splits=n_splits, shuffle=True, random_state=66)"
   ]
  },
  {
   "cell_type": "code",
   "execution_count": 78,
   "metadata": {
    "ExecuteTime": {
     "end_time": "2023-04-28T03:51:01.484372Z",
     "start_time": "2023-04-28T03:39:08.836348Z"
    }
   },
   "outputs": [
    {
     "name": "stdout",
     "output_type": "stream",
     "text": [
      "Total Epochs: 5\n",
      "Hidden Size: 128\n",
      "Epoch [5/5], Loss: 0.4817, Training Accuracy: 76.75%, Validation Accuracy: 72.21%\n",
      "Fold: 1\n",
      "Epoch [5/5], Loss: 0.4837, Training Accuracy: 76.41%, Validation Accuracy: 72.67%\n",
      "Fold: 2\n",
      "Epoch [5/5], Loss: 0.4801, Training Accuracy: 76.88%, Validation Accuracy: 70.84%\n",
      "Fold: 3\n",
      "Epoch [5/5], Loss: 0.4827, Training Accuracy: 76.60%, Validation Accuracy: 70.70%\n",
      "Fold: 4\n",
      "Epoch [5/5], Loss: 0.4805, Training Accuracy: 76.73%, Validation Accuracy: 72.11%\n",
      "Fold: 5\n",
      "Epoch [5/5], Loss: 0.4831, Training Accuracy: 76.56%, Validation Accuracy: 71.88%\n",
      "Fold: 6\n",
      "Epoch [5/5], Loss: 0.4846, Training Accuracy: 76.18%, Validation Accuracy: 70.72%\n",
      "Fold: 7\n",
      "Epoch [5/5], Loss: 0.4831, Training Accuracy: 76.56%, Validation Accuracy: 72.14%\n",
      "Fold: 8\n",
      "Epoch [5/5], Loss: 0.4832, Training Accuracy: 76.54%, Validation Accuracy: 71.56%\n",
      "Fold: 9\n",
      "Epoch [5/5], Loss: 0.4801, Training Accuracy: 76.86%, Validation Accuracy: 71.70%\n",
      "Fold: 10\n",
      "Hidden Size: 256\n",
      "Epoch [5/5], Loss: 0.4642, Training Accuracy: 78.82%, Validation Accuracy: 72.92%\n",
      "Fold: 1\n",
      "Epoch [5/5], Loss: 0.4627, Training Accuracy: 79.07%, Validation Accuracy: 72.70%\n",
      "Fold: 2\n",
      "Epoch [5/5], Loss: 0.4628, Training Accuracy: 79.09%, Validation Accuracy: 71.73%\n",
      "Fold: 3\n",
      "Epoch [5/5], Loss: 0.4607, Training Accuracy: 79.22%, Validation Accuracy: 71.71%\n",
      "Fold: 4\n",
      "Epoch [5/5], Loss: 0.4637, Training Accuracy: 78.75%, Validation Accuracy: 72.47%\n",
      "Fold: 5\n",
      "Epoch [5/5], Loss: 0.4612, Training Accuracy: 79.23%, Validation Accuracy: 72.21%\n",
      "Fold: 6\n",
      "Epoch [5/5], Loss: 0.4637, Training Accuracy: 78.88%, Validation Accuracy: 71.46%\n",
      "Fold: 7\n",
      "Epoch [5/5], Loss: 0.4615, Training Accuracy: 79.20%, Validation Accuracy: 71.73%\n",
      "Fold: 8\n",
      "Epoch [5/5], Loss: 0.4590, Training Accuracy: 79.54%, Validation Accuracy: 71.32%\n",
      "Fold: 9\n",
      "Epoch [5/5], Loss: 0.4615, Training Accuracy: 79.18%, Validation Accuracy: 71.43%\n",
      "Fold: 10\n",
      "Hidden Size: 512\n",
      "Epoch [5/5], Loss: 0.4487, Training Accuracy: 80.67%, Validation Accuracy: 72.31%\n",
      "Fold: 1\n",
      "Epoch [5/5], Loss: 0.4486, Training Accuracy: 80.73%, Validation Accuracy: 73.31%\n",
      "Fold: 2\n",
      "Epoch [5/5], Loss: 0.4474, Training Accuracy: 80.88%, Validation Accuracy: 70.79%\n",
      "Fold: 3\n",
      "Epoch [5/5], Loss: 0.4480, Training Accuracy: 80.75%, Validation Accuracy: 71.12%\n",
      "Fold: 4\n",
      "Epoch [5/5], Loss: 0.4472, Training Accuracy: 80.86%, Validation Accuracy: 73.55%\n",
      "Fold: 5\n",
      "Epoch [5/5], Loss: 0.4496, Training Accuracy: 80.57%, Validation Accuracy: 71.93%\n",
      "Fold: 6\n",
      "Epoch [5/5], Loss: 0.4462, Training Accuracy: 80.91%, Validation Accuracy: 70.72%\n",
      "Fold: 7\n",
      "Epoch [5/5], Loss: 0.4464, Training Accuracy: 80.96%, Validation Accuracy: 71.66%\n",
      "Fold: 8\n",
      "Epoch [5/5], Loss: 0.4483, Training Accuracy: 80.74%, Validation Accuracy: 72.08%\n",
      "Fold: 9\n",
      "Epoch [5/5], Loss: 0.4496, Training Accuracy: 80.58%, Validation Accuracy: 72.24%\n",
      "Fold: 10\n",
      "Total Epochs: 10\n",
      "Hidden Size: 128\n",
      "Epoch [10/10], Loss: 0.4292, Training Accuracy: 83.26%, Validation Accuracy: 71.83%\n",
      "Fold: 1\n",
      "Epoch [10/10], Loss: 0.4243, Training Accuracy: 83.83%, Validation Accuracy: 72.47%\n",
      "Fold: 2\n",
      "Epoch [10/10], Loss: 0.4255, Training Accuracy: 83.70%, Validation Accuracy: 72.50%\n",
      "Fold: 3\n",
      "Epoch [10/10], Loss: 0.4223, Training Accuracy: 84.15%, Validation Accuracy: 71.08%\n",
      "Fold: 4\n",
      "Epoch [10/10], Loss: 0.4278, Training Accuracy: 83.55%, Validation Accuracy: 72.54%\n",
      "Fold: 5\n",
      "Epoch [10/10], Loss: 0.4241, Training Accuracy: 83.94%, Validation Accuracy: 72.19%\n",
      "Fold: 6\n",
      "Epoch [10/10], Loss: 0.4280, Training Accuracy: 83.47%, Validation Accuracy: 71.23%\n",
      "Fold: 7\n",
      "Epoch [10/10], Loss: 0.4266, Training Accuracy: 83.62%, Validation Accuracy: 72.24%\n",
      "Fold: 8\n",
      "Epoch [10/10], Loss: 0.4256, Training Accuracy: 83.72%, Validation Accuracy: 70.62%\n",
      "Fold: 9\n",
      "Epoch [10/10], Loss: 0.4231, Training Accuracy: 84.10%, Validation Accuracy: 72.19%\n",
      "Fold: 10\n",
      "Hidden Size: 256\n",
      "Epoch [10/10], Loss: 0.4021, Training Accuracy: 86.40%, Validation Accuracy: 72.39%\n",
      "Fold: 1\n",
      "Epoch [10/10], Loss: 0.4002, Training Accuracy: 86.71%, Validation Accuracy: 73.05%\n",
      "Fold: 2\n",
      "Epoch [10/10], Loss: 0.4014, Training Accuracy: 86.59%, Validation Accuracy: 72.26%\n",
      "Fold: 3\n",
      "Epoch [10/10], Loss: 0.4047, Training Accuracy: 86.14%, Validation Accuracy: 71.48%\n",
      "Fold: 4\n",
      "Epoch [10/10], Loss: 0.4038, Training Accuracy: 86.15%, Validation Accuracy: 73.05%\n",
      "Fold: 5\n",
      "Epoch [10/10], Loss: 0.3997, Training Accuracy: 86.75%, Validation Accuracy: 72.70%\n",
      "Fold: 6\n",
      "Epoch [10/10], Loss: 0.4036, Training Accuracy: 86.24%, Validation Accuracy: 71.36%\n",
      "Fold: 7\n",
      "Epoch [10/10], Loss: 0.3994, Training Accuracy: 86.76%, Validation Accuracy: 70.65%\n",
      "Fold: 8\n",
      "Epoch [10/10], Loss: 0.3988, Training Accuracy: 86.87%, Validation Accuracy: 71.23%\n",
      "Fold: 9\n",
      "Epoch [10/10], Loss: 0.4007, Training Accuracy: 86.62%, Validation Accuracy: 72.03%\n",
      "Fold: 10\n",
      "Hidden Size: 512\n",
      "Epoch [10/10], Loss: 0.3885, Training Accuracy: 87.87%, Validation Accuracy: 71.93%\n",
      "Fold: 1\n",
      "Epoch [10/10], Loss: 0.3889, Training Accuracy: 87.97%, Validation Accuracy: 73.93%\n",
      "Fold: 2\n",
      "Epoch [10/10], Loss: 0.3869, Training Accuracy: 88.07%, Validation Accuracy: 72.54%\n",
      "Fold: 3\n",
      "Epoch [10/10], Loss: 0.3890, Training Accuracy: 87.90%, Validation Accuracy: 71.36%\n",
      "Fold: 4\n",
      "Epoch [10/10], Loss: 0.3881, Training Accuracy: 87.96%, Validation Accuracy: 72.27%\n",
      "Fold: 5\n",
      "Epoch [10/10], Loss: 0.3880, Training Accuracy: 87.94%, Validation Accuracy: 72.80%\n",
      "Fold: 6\n",
      "Epoch [10/10], Loss: 0.3889, Training Accuracy: 87.82%, Validation Accuracy: 71.51%\n",
      "Fold: 7\n",
      "Epoch [10/10], Loss: 0.3886, Training Accuracy: 87.95%, Validation Accuracy: 71.89%\n",
      "Fold: 8\n",
      "Epoch [10/10], Loss: 0.3892, Training Accuracy: 87.92%, Validation Accuracy: 72.06%\n",
      "Fold: 9\n",
      "Epoch [10/10], Loss: 0.3861, Training Accuracy: 88.14%, Validation Accuracy: 71.43%\n",
      "Fold: 10\n",
      "Total Epochs: 20\n",
      "Hidden Size: 128\n",
      "Epoch [20/20], Loss: 0.3773, Training Accuracy: 89.37%, Validation Accuracy: 72.41%\n",
      "Fold: 1\n",
      "Epoch [20/20], Loss: 0.3767, Training Accuracy: 89.43%, Validation Accuracy: 71.66%\n",
      "Fold: 2\n",
      "Epoch [20/20], Loss: 0.3769, Training Accuracy: 89.43%, Validation Accuracy: 72.16%\n",
      "Fold: 3\n",
      "Epoch [20/20], Loss: 0.3797, Training Accuracy: 89.10%, Validation Accuracy: 70.44%\n",
      "Fold: 4\n",
      "Epoch [20/20], Loss: 0.3801, Training Accuracy: 89.00%, Validation Accuracy: 73.12%\n",
      "Fold: 5\n",
      "Epoch [20/20], Loss: 0.3767, Training Accuracy: 89.41%, Validation Accuracy: 71.32%\n",
      "Fold: 6\n",
      "Epoch [20/20], Loss: 0.3781, Training Accuracy: 89.17%, Validation Accuracy: 70.77%\n",
      "Fold: 7\n",
      "Epoch [20/20], Loss: 0.3792, Training Accuracy: 89.11%, Validation Accuracy: 71.56%\n",
      "Fold: 8\n",
      "Epoch [20/20], Loss: 0.3798, Training Accuracy: 89.05%, Validation Accuracy: 72.11%\n",
      "Fold: 9\n",
      "Epoch [20/20], Loss: 0.3801, Training Accuracy: 88.99%, Validation Accuracy: 71.74%\n",
      "Fold: 10\n",
      "Hidden Size: 256\n",
      "Epoch [20/20], Loss: 0.3615, Training Accuracy: 91.09%, Validation Accuracy: 72.41%\n",
      "Fold: 1\n",
      "Epoch [20/20], Loss: 0.3656, Training Accuracy: 90.62%, Validation Accuracy: 73.12%\n",
      "Fold: 2\n",
      "Epoch [20/20], Loss: 0.3628, Training Accuracy: 90.94%, Validation Accuracy: 71.98%\n",
      "Fold: 3\n",
      "Epoch [20/20], Loss: 0.3602, Training Accuracy: 91.21%, Validation Accuracy: 71.20%\n",
      "Fold: 4\n",
      "Epoch [20/20], Loss: 0.3646, Training Accuracy: 90.71%, Validation Accuracy: 72.01%\n",
      "Fold: 5\n",
      "Epoch [20/20], Loss: 0.3650, Training Accuracy: 90.65%, Validation Accuracy: 72.47%\n",
      "Fold: 6\n",
      "Epoch [20/20], Loss: 0.3636, Training Accuracy: 90.77%, Validation Accuracy: 71.25%\n",
      "Fold: 7\n",
      "Epoch [20/20], Loss: 0.3606, Training Accuracy: 91.15%, Validation Accuracy: 71.93%\n",
      "Fold: 8\n",
      "Epoch [20/20], Loss: 0.3626, Training Accuracy: 90.99%, Validation Accuracy: 71.56%\n",
      "Fold: 9\n",
      "Epoch [20/20], Loss: 0.3611, Training Accuracy: 91.11%, Validation Accuracy: 72.21%\n",
      "Fold: 10\n",
      "Hidden Size: 512\n",
      "Epoch [20/20], Loss: 0.3576, Training Accuracy: 91.49%, Validation Accuracy: 72.92%\n",
      "Fold: 1\n",
      "Epoch [20/20], Loss: 0.3546, Training Accuracy: 91.83%, Validation Accuracy: 72.65%\n",
      "Fold: 2\n",
      "Epoch [20/20], Loss: 0.3533, Training Accuracy: 91.98%, Validation Accuracy: 71.65%\n",
      "Fold: 3\n",
      "Epoch [20/20], Loss: 0.3549, Training Accuracy: 91.76%, Validation Accuracy: 71.12%\n",
      "Fold: 4\n",
      "Epoch [20/20], Loss: 0.3565, Training Accuracy: 91.59%, Validation Accuracy: 72.70%\n",
      "Fold: 5\n",
      "Epoch [20/20], Loss: 0.3497, Training Accuracy: 92.40%, Validation Accuracy: 72.97%\n",
      "Fold: 6\n",
      "Epoch [20/20], Loss: 0.3543, Training Accuracy: 91.84%, Validation Accuracy: 71.40%\n",
      "Fold: 7\n",
      "Epoch [20/20], Loss: 0.3532, Training Accuracy: 92.00%, Validation Accuracy: 72.06%\n",
      "Fold: 8\n",
      "Epoch [20/20], Loss: 0.3517, Training Accuracy: 92.16%, Validation Accuracy: 72.36%\n",
      "Fold: 9\n",
      "Epoch [20/20], Loss: 0.3524, Training Accuracy: 92.04%, Validation Accuracy: 72.17%\n",
      "Fold: 10\n"
     ]
    }
   ],
   "source": [
    "##GRID Search\n",
    "input_size = 768\n",
    "num_classes = 2\n",
    "hidden_list = [128,256,512]\n",
    "epoch_list = [5,10,20]\n",
    "\n",
    "best_acc = 0\n",
    "for num_epochs in epoch_list:\n",
    "    print(\"Total Epochs:\",num_epochs)\n",
    "    for hidden_size in hidden_list:\n",
    "        print(\"Hidden Size:\" ,hidden_size)\n",
    "        val_acc_list = []\n",
    "        for fold, (train_indices, val_indices) in enumerate(kf.split(torch_dataset_train)):\n",
    "            # Create train and validation DataLoader instances for the current fold\n",
    "            fnn_model = FNN_Classifier(input_size, hidden_size, num_classes)\n",
    "            fnn_model.to(device)\n",
    "            train_sampler = torch.utils.data.SubsetRandomSampler(train_indices)\n",
    "            val_sampler = torch.utils.data.SubsetRandomSampler(val_indices)\n",
    "            train_split_loader = DataLoader(torch_dataset_train, batch_size=256, sampler=train_sampler)\n",
    "            val_split_loader = DataLoader(torch_dataset_train, batch_size=256, sampler=val_sampler)\n",
    "            val_acc,_1,_2,_3 = train_model(fnn_model, num_epochs,train_split_loader,val_split_loader)\n",
    "            val_acc_list.append(float(val_acc))\n",
    "            print(\"Fold:\",fold+1)\n",
    "        ave_val_acc = sum(val_acc_list)/ len(val_acc_list)\n",
    "        if ave_val_acc > best_acc:\n",
    "            best_acc = ave_val_acc\n",
    "            torch.save(fnn_model,\"./Best_FNN.pt\")\n",
    "\n"
   ]
  },
  {
   "cell_type": "code",
   "execution_count": 79,
   "metadata": {
    "ExecuteTime": {
     "end_time": "2023-04-28T03:54:53.655556Z",
     "start_time": "2023-04-28T03:54:53.613705Z"
    }
   },
   "outputs": [],
   "source": [
    "best_fnn_model = torch.load(\"./Best_FNN.pt\")"
   ]
  },
  {
   "cell_type": "code",
   "execution_count": 40,
   "metadata": {
    "ExecuteTime": {
     "end_time": "2023-04-27T20:45:48.497075Z",
     "start_time": "2023-04-27T20:45:48.442001Z"
    }
   },
   "outputs": [
    {
     "name": "stdout",
     "output_type": "stream",
     "text": [
      "fc1.weight tensor([[-0.0920,  0.0291, -0.0934,  ...,  0.0819, -0.0245, -0.0696],\n",
      "        [-0.0321, -0.0454,  0.0892,  ...,  0.0501, -0.0344, -0.0218],\n",
      "        [-0.0745,  0.0218, -0.0779,  ..., -0.0258, -0.0041, -0.0106],\n",
      "        ...,\n",
      "        [ 0.0304,  0.0027, -0.0004,  ..., -0.0769,  0.0130,  0.0107],\n",
      "        [ 0.0480, -0.0027, -0.0425,  ..., -0.0669, -0.1556, -0.0107],\n",
      "        [ 0.0564, -0.0662,  0.0369,  ..., -0.0562, -0.0198,  0.0145]],\n",
      "       device='cuda:0')\n",
      "fc1.bias tensor([-0.0114,  0.0192, -0.0399, -0.0213, -0.0140, -0.0096, -0.0508,  0.0214,\n",
      "        -0.0463, -0.0171, -0.0068, -0.0270, -0.0285, -0.0625, -0.0283, -0.0361,\n",
      "        -0.0258, -0.0464, -0.0137, -0.0264, -0.0382, -0.0442,  0.0134,  0.0139,\n",
      "        -0.0480,  0.0056,  0.0143,  0.0312, -0.0281, -0.0203, -0.0509, -0.0152,\n",
      "         0.0306,  0.0114, -0.0067, -0.0009, -0.0406,  0.0254,  0.0026, -0.0479,\n",
      "         0.0224, -0.0360, -0.0179,  0.0160,  0.0080, -0.0516, -0.0228,  0.0250,\n",
      "        -0.0232, -0.0313, -0.0304, -0.0242,  0.0230,  0.0050, -0.0073, -0.0210,\n",
      "        -0.0512,  0.0009, -0.0058, -0.0135, -0.0158, -0.0310,  0.0166, -0.0245,\n",
      "         0.0226, -0.0265, -0.0746,  0.0231, -0.0105, -0.0518, -0.0199, -0.0727,\n",
      "        -0.0290, -0.0025, -0.0196, -0.0192,  0.0019,  0.0366, -0.0237,  0.0153,\n",
      "         0.0115,  0.0160,  0.0206, -0.0211, -0.0368,  0.0093, -0.0079,  0.0215,\n",
      "        -0.0021, -0.0093, -0.0062, -0.0328, -0.0285, -0.0307,  0.0174, -0.0452,\n",
      "        -0.0502,  0.0118,  0.0110, -0.0223,  0.0018, -0.0500, -0.0404,  0.0066,\n",
      "        -0.0431, -0.0043,  0.0337, -0.0726, -0.0225, -0.0432,  0.0286, -0.0081,\n",
      "         0.0180, -0.0314, -0.0174,  0.0046,  0.0108,  0.0194, -0.0060, -0.0376,\n",
      "        -0.0584, -0.0619, -0.0427, -0.0080,  0.0072, -0.0224, -0.0188, -0.0071,\n",
      "        -0.0402, -0.0325, -0.0336, -0.0089, -0.0251, -0.0698, -0.0273, -0.0366,\n",
      "         0.0057,  0.0068, -0.0271, -0.0399, -0.0292, -0.0012, -0.0401,  0.0150,\n",
      "        -0.0420, -0.0496,  0.0036,  0.0207,  0.0133, -0.0260, -0.0488,  0.0180,\n",
      "        -0.0017, -0.0228,  0.0363, -0.0426, -0.0521, -0.0066,  0.0101,  0.0091,\n",
      "        -0.0293,  0.0332, -0.0089, -0.0084,  0.0075, -0.0201, -0.0324,  0.0136,\n",
      "        -0.0324, -0.0161,  0.0036, -0.0381,  0.0218, -0.0430, -0.0037, -0.0182,\n",
      "        -0.0260, -0.0094, -0.0200,  0.0143, -0.0458, -0.0443, -0.0119, -0.0451,\n",
      "        -0.0153,  0.0136, -0.0128,  0.0009, -0.0067,  0.0050, -0.0484, -0.0456,\n",
      "        -0.0124,  0.0060, -0.0086, -0.0667, -0.0254, -0.0137, -0.0117,  0.0220,\n",
      "         0.0112,  0.0206,  0.0023, -0.0407,  0.0012, -0.0141, -0.0074, -0.0365,\n",
      "        -0.0142, -0.0082, -0.0425,  0.0192, -0.0609, -0.0531, -0.0318, -0.0140,\n",
      "        -0.0749, -0.0220, -0.0517, -0.0395, -0.0355, -0.0124, -0.0089, -0.0005,\n",
      "         0.0149, -0.0013, -0.0060, -0.0261, -0.0063, -0.0310,  0.0236,  0.0025,\n",
      "        -0.0091, -0.0211, -0.0392, -0.0090, -0.0370, -0.0158,  0.0059, -0.0186,\n",
      "        -0.0198, -0.0420, -0.0313,  0.0093, -0.0154,  0.0076, -0.0164, -0.0370,\n",
      "         0.0268,  0.0211, -0.0058, -0.0131, -0.0231,  0.0200,  0.0090, -0.0338],\n",
      "       device='cuda:0')\n",
      "fc3.weight tensor([[ 0.1318, -0.0758,  0.2143,  ..., -0.0537, -0.0806, -0.0013],\n",
      "        [-0.0124,  0.1443, -0.1089,  ..., -0.0293,  0.0325,  0.0532],\n",
      "        [ 0.0963, -0.1142,  0.1664,  ..., -0.0214, -0.0493, -0.0282],\n",
      "        ...,\n",
      "        [ 0.0048, -0.1006,  0.2044,  ..., -0.0363, -0.0777, -0.0399],\n",
      "        [ 0.0738, -0.0995,  0.2056,  ...,  0.0649, -0.0459,  0.0235],\n",
      "        [ 0.0121,  0.0349, -0.0465,  ...,  0.0113,  0.0341, -0.0775]],\n",
      "       device='cuda:0')\n",
      "fc3.bias tensor([ 0.0453,  0.0203,  0.0033,  0.0455, -0.0234, -0.0365,  0.0213,  0.0058,\n",
      "         0.0279, -0.0245, -0.0479,  0.0151,  0.0197, -0.0098,  0.0806,  0.0139,\n",
      "        -0.0102,  0.0165, -0.0407,  0.0277,  0.0935, -0.0234, -0.0493,  0.0359,\n",
      "         0.0479,  0.0717, -0.0015,  0.0273,  0.0557, -0.0494,  0.0242,  0.0292,\n",
      "         0.0877, -0.0483, -0.0429,  0.0801,  0.0099,  0.0148, -0.0703,  0.0359,\n",
      "        -0.0023,  0.0784,  0.0014,  0.0152,  0.0040,  0.0020,  0.0402, -0.0640,\n",
      "        -0.0375, -0.0344,  0.0347,  0.0496, -0.0193, -0.0118,  0.0206, -0.0518,\n",
      "         0.0305,  0.0963,  0.0685,  0.0300, -0.0024, -0.0687,  0.0357,  0.0105,\n",
      "         0.0791,  0.0348,  0.0662, -0.0153,  0.0427,  0.0131,  0.0267,  0.0080,\n",
      "         0.0394,  0.0530, -0.0561, -0.0291, -0.0821,  0.0847,  0.0493,  0.0270,\n",
      "        -0.0119, -0.0389, -0.0080,  0.0585,  0.0978, -0.0018,  0.0492, -0.0169,\n",
      "        -0.0751,  0.0131, -0.0207,  0.0378,  0.0319,  0.0729,  0.0147,  0.0748,\n",
      "         0.0460,  0.0499, -0.0126, -0.0940, -0.0015,  0.0474, -0.0179, -0.0135,\n",
      "        -0.0241,  0.0269, -0.0103, -0.0132, -0.0738,  0.0505, -0.0204, -0.0720,\n",
      "        -0.0812, -0.0123, -0.0036,  0.0230, -0.0433,  0.0422,  0.0341, -0.0707,\n",
      "         0.0365, -0.0590, -0.0513,  0.0439,  0.0170, -0.0248, -0.0654, -0.0368,\n",
      "        -0.0175,  0.0095,  0.0001,  0.0516,  0.0278, -0.0182,  0.0366,  0.0004,\n",
      "        -0.0518, -0.0784, -0.0675,  0.0439,  0.0291,  0.0458,  0.0454,  0.0209,\n",
      "        -0.0361, -0.0270,  0.0199, -0.0366,  0.0775,  0.0791,  0.0125,  0.0143,\n",
      "         0.0212,  0.0555, -0.0206, -0.0069, -0.0088,  0.0539, -0.0066,  0.0421,\n",
      "         0.0131, -0.0321,  0.0435, -0.0030, -0.0368,  0.0011,  0.0084,  0.0484,\n",
      "         0.0451,  0.0491,  0.0095, -0.0223,  0.0153,  0.0500, -0.0075, -0.0137,\n",
      "         0.0434, -0.0244,  0.0496, -0.0369,  0.0417, -0.0258,  0.0375,  0.0512,\n",
      "        -0.0061,  0.0210,  0.0441, -0.0156, -0.0186, -0.0419, -0.0069,  0.0091,\n",
      "         0.0280, -0.0082,  0.0868, -0.0775, -0.0643,  0.0449,  0.0199, -0.0122,\n",
      "         0.0104,  0.0337,  0.0292, -0.0558, -0.0308, -0.0149, -0.0522,  0.0480,\n",
      "         0.0587, -0.0224, -0.0493,  0.0905,  0.0834,  0.0474,  0.0328,  0.0485,\n",
      "        -0.0505,  0.0945, -0.0408, -0.0161,  0.0520,  0.0174,  0.0734, -0.0031,\n",
      "         0.0281,  0.0492, -0.0398, -0.0086,  0.0683,  0.0197,  0.0613, -0.0007,\n",
      "        -0.0652,  0.0206, -0.0527, -0.0331,  0.0762,  0.0810,  0.0444,  0.0468,\n",
      "         0.0827,  0.0149, -0.0128,  0.0478, -0.0572,  0.0671, -0.0400, -0.0239,\n",
      "        -0.0361,  0.0228,  0.0767,  0.0321, -0.0331,  0.0211,  0.0420, -0.0762],\n",
      "       device='cuda:0')\n",
      "fc4.weight tensor([[ 0.1625, -0.0892,  0.1401,  0.1465, -0.1537,  0.1149,  0.1517,  0.0918,\n",
      "         -0.1483,  0.1150,  0.0362, -0.0767, -0.0750,  0.1042, -0.1178,  0.1640,\n",
      "         -0.1726, -0.1611,  0.0451, -0.1757, -0.0704,  0.0517, -0.0587, -0.0522,\n",
      "          0.1063, -0.1233,  0.1484,  0.0103, -0.0773,  0.1370, -0.1376, -0.1295,\n",
      "         -0.0931,  0.1858, -0.0423, -0.0635,  0.1042,  0.0842, -0.0310, -0.1220,\n",
      "         -0.1024, -0.1367, -0.1436,  0.1575,  0.1106,  0.1111, -0.1252, -0.0542,\n",
      "          0.1282,  0.1574,  0.0947, -0.1007,  0.1076, -0.0924, -0.1206,  0.0363,\n",
      "         -0.1693, -0.1292, -0.1285,  0.1523,  0.1871,  0.0145, -0.0935,  0.1267,\n",
      "         -0.1354,  0.1228, -0.1123,  0.1353,  0.1075, -0.0525, -0.1383, -0.1169,\n",
      "         -0.1281,  0.1200, -0.0100,  0.1556,  0.0320, -0.0890, -0.0894,  0.1096,\n",
      "          0.2225,  0.1252, -0.0714, -0.1217, -0.0724, -0.1589,  0.1309, -0.1337,\n",
      "         -0.1067, -0.1166, -0.0617,  0.0656, -0.1439, -0.0682, -0.0550, -0.1044,\n",
      "         -0.0676,  0.1077,  0.1773,  0.0043,  0.1352, -0.1177, -0.1893,  0.1911,\n",
      "          0.1120, -0.1284,  0.0638,  0.1494, -0.0249, -0.0534, -0.1263, -0.0240,\n",
      "         -0.0288,  0.1087, -0.1477, -0.1147,  0.1591,  0.1786, -0.1052, -0.1273,\n",
      "          0.0918,  0.0456,  0.1043, -0.0870, -0.0891,  0.0673, -0.0547,  0.0947,\n",
      "          0.1196, -0.1464,  0.1610, -0.1300, -0.0887, -0.1236,  0.1038, -0.1153,\n",
      "         -0.0026, -0.0352,  0.0259,  0.1281,  0.0738, -0.0821,  0.1145, -0.1555,\n",
      "          0.1476, -0.1302, -0.1048,  0.0469,  0.1316, -0.0761, -0.1504, -0.0829,\n",
      "          0.1660,  0.1311,  0.0186, -0.1407,  0.2327,  0.1369, -0.0937,  0.1422,\n",
      "         -0.1574,  0.1562,  0.1263,  0.1432,  0.0308, -0.1216,  0.0132,  0.0857,\n",
      "         -0.1193,  0.1053,  0.1476,  0.0880, -0.0886, -0.1682,  0.1002, -0.1372,\n",
      "          0.1221,  0.1146,  0.1095, -0.0368,  0.0674,  0.1236, -0.1592,  0.1011,\n",
      "          0.1510, -0.0586,  0.0659,  0.0377, -0.1678,  0.0471,  0.0647, -0.0554,\n",
      "         -0.1569, -0.0469, -0.1013, -0.0134,  0.0248,  0.1518,  0.0596, -0.1208,\n",
      "         -0.1974,  0.1394,  0.1289,  0.0768,  0.1582, -0.1193,  0.1576, -0.0776,\n",
      "         -0.1075,  0.1148,  0.0112, -0.0824, -0.1238,  0.0752,  0.1288,  0.1151,\n",
      "          0.2327, -0.1340,  0.2380,  0.1403, -0.0810,  0.1170, -0.0302,  0.1137,\n",
      "          0.0554,  0.0578,  0.1454,  0.1120, -0.0647, -0.0745,  0.0589,  0.1130,\n",
      "          0.1638, -0.1271,  0.1132,  0.0987, -0.1232, -0.0993,  0.1307, -0.0461,\n",
      "         -0.1103, -0.1388, -0.1107, -0.1386,  0.0509, -0.1411,  0.0082,  0.1688,\n",
      "         -0.0040,  0.1471, -0.0905,  0.1305,  0.1308,  0.1320,  0.1173,  0.0032],\n",
      "        [-0.1293,  0.0747, -0.1295, -0.0549,  0.1285, -0.0980, -0.0959, -0.1287,\n",
      "          0.1538, -0.1365, -0.0242,  0.1074,  0.0846, -0.1261,  0.1054, -0.0850,\n",
      "          0.1515,  0.1218,  0.0071,  0.1358,  0.0981, -0.0519, -0.0269,  0.1342,\n",
      "         -0.0468,  0.0710, -0.0764,  0.0219,  0.1495, -0.0726,  0.0743,  0.0921,\n",
      "          0.1481, -0.1595,  0.0350,  0.1010, -0.1089, -0.0872, -0.0311,  0.0433,\n",
      "          0.1139,  0.0946,  0.0433, -0.0915, -0.1999, -0.1261,  0.1358,  0.0890,\n",
      "         -0.1918, -0.0364, -0.1402,  0.1148, -0.1250,  0.0836,  0.0622, -0.0300,\n",
      "          0.1068,  0.0869,  0.1214, -0.2109, -0.1411,  0.0334,  0.1287, -0.1445,\n",
      "          0.1148, -0.0587,  0.0528, -0.1175, -0.0900,  0.1140,  0.1287,  0.1123,\n",
      "          0.1230, -0.0453,  0.0528, -0.1559,  0.0260,  0.1320,  0.1346, -0.1703,\n",
      "         -0.1932, -0.1223,  0.1400,  0.1856,  0.1381,  0.0869, -0.1306,  0.0787,\n",
      "          0.1600,  0.1019,  0.1357, -0.1380,  0.1777,  0.1242,  0.1043,  0.0920,\n",
      "          0.1090, -0.1378, -0.1186, -0.0011, -0.1332,  0.1343,  0.2107, -0.1128,\n",
      "         -0.1279,  0.1101, -0.1575, -0.0792, -0.0124,  0.1266,  0.0896, -0.0563,\n",
      "         -0.0053, -0.1308,  0.1106,  0.1346, -0.1969, -0.1556,  0.1581,  0.1589,\n",
      "         -0.1406, -0.0005, -0.1450,  0.1269,  0.1240, -0.1570, -0.0524, -0.1498,\n",
      "         -0.0128,  0.0686, -0.1632,  0.1046,  0.0990,  0.2219, -0.1301,  0.1220,\n",
      "         -0.0227, -0.0401,  0.0682, -0.1002, -0.1001,  0.1563, -0.1297,  0.1005,\n",
      "         -0.0717,  0.1002,  0.1318, -0.1035, -0.0788,  0.1175,  0.1501,  0.1311,\n",
      "         -0.1629, -0.1659, -0.0103,  0.2093, -0.1642, -0.0596,  0.1068, -0.1237,\n",
      "          0.1074, -0.2088, -0.0550, -0.0788,  0.0323,  0.1080, -0.1190, -0.1329,\n",
      "          0.1485, -0.1115, -0.1686, -0.1424,  0.0878,  0.1619, -0.1263,  0.1299,\n",
      "         -0.1684, -0.1067, -0.1382, -0.0057, -0.1390, -0.2000,  0.0540, -0.0943,\n",
      "         -0.1146,  0.0989, -0.0948,  0.0028,  0.1163,  0.0108, -0.1406,  0.0906,\n",
      "          0.1019, -0.0420,  0.0883,  0.0033, -0.0052, -0.1576, -0.1327,  0.1494,\n",
      "          0.1698, -0.1195, -0.1008, -0.1660, -0.1054,  0.1287, -0.1623,  0.1460,\n",
      "          0.0924, -0.1318, -0.0340,  0.1141,  0.0802, -0.1246, -0.1357, -0.1081,\n",
      "         -0.1611,  0.0826, -0.1513, -0.1447,  0.1198, -0.1044,  0.1278, -0.0634,\n",
      "         -0.1398, -0.1381, -0.0912, -0.1448,  0.1482,  0.0880, -0.1308, -0.1345,\n",
      "         -0.1997,  0.0790, -0.1598, -0.1368,  0.0987,  0.1276, -0.0820,  0.1177,\n",
      "          0.1039,  0.1637,  0.0853,  0.0321,  0.0289,  0.1398,  0.0837, -0.1750,\n",
      "         -0.0038, -0.0698,  0.1004, -0.0791, -0.0554, -0.0413, -0.1390,  0.0198]],\n",
      "       device='cuda:0')\n",
      "fc4.bias tensor([-0.0770,  0.0375], device='cuda:0')\n"
     ]
    }
   ],
   "source": [
    "#Show model parameter\n",
    "for name, param in best_fnn_model.named_parameters():\n",
    "    if param.requires_grad:\n",
    "        print(name, param.data)"
   ]
  },
  {
   "cell_type": "markdown",
   "metadata": {},
   "source": [
    "## Evaluate Test Set"
   ]
  },
  {
   "cell_type": "code",
   "execution_count": 80,
   "metadata": {
    "ExecuteTime": {
     "end_time": "2023-04-28T03:55:01.992206Z",
     "start_time": "2023-04-28T03:55:01.989163Z"
    }
   },
   "outputs": [],
   "source": [
    "def evaluate(model, dataloader, device):\n",
    "    model.eval()  # Set the model to evaluation mode\n",
    "    total_loss = 0\n",
    "    total_correct = 0\n",
    "    total_samples = 0\n",
    "\n",
    "    with torch.no_grad():  # Disable gradient calculations for faster evaluation\n",
    "        for inputs, targets in dataloader:\n",
    "            inputs, targets = inputs.to(device), targets.to(device)\n",
    "            outputs = model(inputs)\n",
    "            _, predictions = torch.max(outputs, 1)\n",
    "\n",
    "            total_correct += (predictions == targets).sum().item()\n",
    "            total_samples += targets.size(0)\n",
    "\n",
    "    accuracy = total_correct / total_samples\n",
    "    return accuracy"
   ]
  },
  {
   "cell_type": "code",
   "execution_count": 81,
   "metadata": {
    "ExecuteTime": {
     "end_time": "2023-04-28T03:55:05.769456Z",
     "start_time": "2023-04-28T03:55:05.123730Z"
    }
   },
   "outputs": [
    {
     "name": "stdout",
     "output_type": "stream",
     "text": [
      "Test accuracy: 72.50%\n"
     ]
    }
   ],
   "source": [
    "test_accuracy = evaluate(best_fnn_model, test_loader, device)\n",
    "print(\"Test accuracy: {:.2f}%\".format(test_accuracy * 100))"
   ]
  },
  {
   "cell_type": "markdown",
   "metadata": {},
   "source": [
    "## Recursive"
   ]
  },
  {
   "cell_type": "code",
   "execution_count": 83,
   "metadata": {
    "ExecuteTime": {
     "end_time": "2023-04-28T03:56:12.085896Z",
     "start_time": "2023-04-28T03:56:12.003531Z"
    }
   },
   "outputs": [],
   "source": [
    "X_train, X_test, y_train, y_test = train_test_split(X_stack, y, test_size = 0.3, random_state=1)"
   ]
  },
  {
   "cell_type": "code",
   "execution_count": 84,
   "metadata": {
    "ExecuteTime": {
     "end_time": "2023-04-28T03:56:12.558049Z",
     "start_time": "2023-04-28T03:56:12.553474Z"
    }
   },
   "outputs": [],
   "source": [
    "class CustomDataset_RNN(Dataset):\n",
    "    def __init__(self, data, labels):\n",
    "        self.data = torch.tensor(data, dtype=torch.float32).unsqueeze(1)\n",
    "        self.labels = torch.tensor(labels, dtype=torch.long)\n",
    "\n",
    "    def __len__(self):\n",
    "        return len(self.data)\n",
    "\n",
    "    def __getitem__(self, idx):\n",
    "        return self.data[idx], self.labels[idx]"
   ]
  },
  {
   "cell_type": "code",
   "execution_count": 85,
   "metadata": {
    "ExecuteTime": {
     "end_time": "2023-04-28T03:56:15.280036Z",
     "start_time": "2023-04-28T03:56:15.230840Z"
    }
   },
   "outputs": [],
   "source": [
    "torch_dataset_train = CustomDataset_RNN(X_train,y_train)\n",
    "torch_dataset_test = CustomDataset_RNN(X_test,y_test)\n",
    "train_loader_rnn = DataLoader(torch_dataset_train, batch_size=64, shuffle=True, num_workers=2)\n",
    "test_loader_rnn = DataLoader(torch_dataset_test, batch_size=64, shuffle=False, num_workers=2)"
   ]
  },
  {
   "cell_type": "code",
   "execution_count": 86,
   "metadata": {
    "ExecuteTime": {
     "end_time": "2023-04-28T03:56:17.813783Z",
     "start_time": "2023-04-28T03:56:17.810807Z"
    }
   },
   "outputs": [],
   "source": [
    "class TextLSTM(nn.Module):\n",
    "    def __init__(self, embedding_dim, hidden_size, num_layers=2):\n",
    "        super(TextLSTM, self).__init__()\n",
    "        self.hidden_size = hidden_size\n",
    "        self.num_layers = num_layers\n",
    "\n",
    "        # LSTM layers\n",
    "        self.lstm = nn.LSTM(embedding_dim, hidden_size, num_layers, batch_first=True)\n",
    "\n",
    "        # Fully connected layer to produce output\n",
    "        self.fc = nn.Linear(hidden_size, 2)  # Output size is 2 for two classes (0 and 1)\n",
    "\n",
    "    def forward(self, x):\n",
    "        # Initialize hidden and cell states with zeros\n",
    "        h0 = torch.zeros(self.num_layers, x.size(0), self.hidden_size).to(x.device)\n",
    "        c0 = torch.zeros(self.num_layers, x.size(0), self.hidden_size).to(x.device)\n",
    "\n",
    "        # Pass input (embedded text) through LSTM layers\n",
    "        out, _ = self.lstm(x, (h0, c0))\n",
    "\n",
    "        # Pass the output of the LSTM through the fully connected layer\n",
    "        out = self.fc(out[:, -1, :])\n",
    "\n",
    "        return out"
   ]
  },
  {
   "cell_type": "markdown",
   "metadata": {},
   "source": [
    "### GRID Search"
   ]
  },
  {
   "cell_type": "code",
   "execution_count": 87,
   "metadata": {
    "ExecuteTime": {
     "end_time": "2023-04-28T04:11:52.891392Z",
     "start_time": "2023-04-28T03:56:33.444778Z"
    }
   },
   "outputs": [
    {
     "name": "stdout",
     "output_type": "stream",
     "text": [
      "Total Epochs: 5\n",
      "Hidden Size: 128\n",
      "Epoch [5/5], Loss: 0.3806, Training Accuracy: 79.18%, Validation Accuracy: 72.34%\n",
      "Fold: 1\n",
      "Epoch [5/5], Loss: 0.3864, Training Accuracy: 78.84%, Validation Accuracy: 73.76%\n",
      "Fold: 2\n",
      "Epoch [5/5], Loss: 0.3835, Training Accuracy: 78.97%, Validation Accuracy: 72.82%\n",
      "Fold: 3\n",
      "Epoch [5/5], Loss: 0.3833, Training Accuracy: 79.01%, Validation Accuracy: 70.39%\n",
      "Fold: 4\n",
      "Epoch [5/5], Loss: 0.3816, Training Accuracy: 79.25%, Validation Accuracy: 73.36%\n",
      "Fold: 5\n",
      "Epoch [5/5], Loss: 0.3805, Training Accuracy: 79.24%, Validation Accuracy: 72.95%\n",
      "Fold: 6\n",
      "Epoch [5/5], Loss: 0.3814, Training Accuracy: 79.13%, Validation Accuracy: 71.79%\n",
      "Fold: 7\n",
      "Epoch [5/5], Loss: 0.3829, Training Accuracy: 79.15%, Validation Accuracy: 72.42%\n",
      "Fold: 8\n",
      "Epoch [5/5], Loss: 0.3831, Training Accuracy: 79.13%, Validation Accuracy: 72.46%\n",
      "Fold: 9\n",
      "Epoch [5/5], Loss: 0.3864, Training Accuracy: 78.89%, Validation Accuracy: 73.10%\n",
      "Fold: 10\n",
      "Hidden Size: 256\n",
      "Epoch [5/5], Loss: 0.3692, Training Accuracy: 79.73%, Validation Accuracy: 73.42%\n",
      "Fold: 1\n",
      "Epoch [5/5], Loss: 0.3675, Training Accuracy: 79.97%, Validation Accuracy: 73.12%\n",
      "Fold: 2\n",
      "Epoch [5/5], Loss: 0.3700, Training Accuracy: 79.72%, Validation Accuracy: 73.38%\n",
      "Fold: 3\n",
      "Epoch [5/5], Loss: 0.3702, Training Accuracy: 79.60%, Validation Accuracy: 72.29%\n",
      "Fold: 4\n",
      "Epoch [5/5], Loss: 0.3700, Training Accuracy: 79.78%, Validation Accuracy: 73.61%\n",
      "Fold: 5\n",
      "Epoch [5/5], Loss: 0.3685, Training Accuracy: 79.80%, Validation Accuracy: 73.46%\n",
      "Fold: 6\n",
      "Epoch [5/5], Loss: 0.3715, Training Accuracy: 79.59%, Validation Accuracy: 73.36%\n",
      "Fold: 7\n",
      "Epoch [5/5], Loss: 0.3699, Training Accuracy: 79.81%, Validation Accuracy: 71.65%\n",
      "Fold: 8\n",
      "Epoch [5/5], Loss: 0.3684, Training Accuracy: 79.89%, Validation Accuracy: 72.84%\n",
      "Fold: 9\n",
      "Epoch [5/5], Loss: 0.3687, Training Accuracy: 79.87%, Validation Accuracy: 72.87%\n",
      "Fold: 10\n",
      "Hidden Size: 512\n",
      "Epoch [5/5], Loss: 0.3565, Training Accuracy: 80.47%, Validation Accuracy: 73.39%\n",
      "Fold: 1\n",
      "Epoch [5/5], Loss: 0.3626, Training Accuracy: 80.19%, Validation Accuracy: 73.50%\n",
      "Fold: 2\n",
      "Epoch [5/5], Loss: 0.3544, Training Accuracy: 80.67%, Validation Accuracy: 72.24%\n",
      "Fold: 3\n",
      "Epoch [5/5], Loss: 0.3550, Training Accuracy: 80.72%, Validation Accuracy: 72.31%\n",
      "Fold: 4\n",
      "Epoch [5/5], Loss: 0.3584, Training Accuracy: 80.59%, Validation Accuracy: 72.67%\n",
      "Fold: 5\n",
      "Epoch [5/5], Loss: 0.3593, Training Accuracy: 80.41%, Validation Accuracy: 73.08%\n",
      "Fold: 6\n",
      "Epoch [5/5], Loss: 0.3557, Training Accuracy: 80.64%, Validation Accuracy: 72.29%\n",
      "Fold: 7\n",
      "Epoch [5/5], Loss: 0.3581, Training Accuracy: 80.54%, Validation Accuracy: 72.65%\n",
      "Fold: 8\n",
      "Epoch [5/5], Loss: 0.3560, Training Accuracy: 80.64%, Validation Accuracy: 73.41%\n",
      "Fold: 9\n",
      "Epoch [5/5], Loss: 0.3578, Training Accuracy: 80.38%, Validation Accuracy: 73.18%\n",
      "Fold: 10\n",
      "Total Epochs: 10\n",
      "Hidden Size: 128\n",
      "Epoch [10/10], Loss: 0.1839, Training Accuracy: 90.93%, Validation Accuracy: 71.82%\n",
      "Fold: 1\n",
      "Epoch [10/10], Loss: 0.1803, Training Accuracy: 91.13%, Validation Accuracy: 72.09%\n",
      "Fold: 2\n",
      "Epoch [10/10], Loss: 0.1742, Training Accuracy: 91.40%, Validation Accuracy: 71.66%\n",
      "Fold: 3\n",
      "Epoch [10/10], Loss: 0.1786, Training Accuracy: 91.25%, Validation Accuracy: 70.92%\n",
      "Fold: 4\n",
      "Epoch [10/10], Loss: 0.1818, Training Accuracy: 91.09%, Validation Accuracy: 71.61%\n",
      "Fold: 5\n",
      "Epoch [10/10], Loss: 0.1874, Training Accuracy: 90.71%, Validation Accuracy: 72.24%\n",
      "Fold: 6\n",
      "Epoch [10/10], Loss: 0.1875, Training Accuracy: 90.66%, Validation Accuracy: 71.63%\n",
      "Fold: 7\n",
      "Epoch [10/10], Loss: 0.1860, Training Accuracy: 90.79%, Validation Accuracy: 70.95%\n",
      "Fold: 8\n",
      "Epoch [10/10], Loss: 0.1880, Training Accuracy: 90.68%, Validation Accuracy: 71.74%\n",
      "Fold: 9\n",
      "Epoch [10/10], Loss: 0.1772, Training Accuracy: 91.39%, Validation Accuracy: 73.12%\n",
      "Fold: 10\n",
      "Hidden Size: 256\n",
      "Epoch [10/10], Loss: 0.1268, Training Accuracy: 94.02%, Validation Accuracy: 72.10%\n",
      "Fold: 1\n",
      "Epoch [10/10], Loss: 0.1294, Training Accuracy: 93.93%, Validation Accuracy: 73.12%\n",
      "Fold: 2\n",
      "Epoch [10/10], Loss: 0.1355, Training Accuracy: 93.50%, Validation Accuracy: 72.52%\n",
      "Fold: 3\n",
      "Epoch [10/10], Loss: 0.1306, Training Accuracy: 93.78%, Validation Accuracy: 71.12%\n",
      "Fold: 4\n",
      "Epoch [10/10], Loss: 0.1342, Training Accuracy: 93.61%, Validation Accuracy: 72.42%\n",
      "Fold: 5\n",
      "Epoch [10/10], Loss: 0.1328, Training Accuracy: 93.61%, Validation Accuracy: 72.39%\n",
      "Fold: 6\n",
      "Epoch [10/10], Loss: 0.1319, Training Accuracy: 93.66%, Validation Accuracy: 71.63%\n",
      "Fold: 7\n",
      "Epoch [10/10], Loss: 0.1352, Training Accuracy: 93.44%, Validation Accuracy: 72.37%\n",
      "Fold: 8\n",
      "Epoch [10/10], Loss: 0.1308, Training Accuracy: 93.68%, Validation Accuracy: 71.91%\n",
      "Fold: 9\n",
      "Epoch [10/10], Loss: 0.1362, Training Accuracy: 93.51%, Validation Accuracy: 72.55%\n",
      "Fold: 10\n",
      "Hidden Size: 512\n",
      "Epoch [10/10], Loss: 0.1028, Training Accuracy: 95.23%, Validation Accuracy: 71.60%\n",
      "Fold: 1\n",
      "Epoch [10/10], Loss: 0.1018, Training Accuracy: 95.26%, Validation Accuracy: 73.02%\n",
      "Fold: 2\n",
      "Epoch [10/10], Loss: 0.1012, Training Accuracy: 95.38%, Validation Accuracy: 72.36%\n",
      "Fold: 3\n",
      "Epoch [10/10], Loss: 0.1027, Training Accuracy: 95.30%, Validation Accuracy: 71.36%\n",
      "Fold: 4\n",
      "Epoch [10/10], Loss: 0.1064, Training Accuracy: 95.08%, Validation Accuracy: 72.69%\n",
      "Fold: 5\n",
      "Epoch [10/10], Loss: 0.1086, Training Accuracy: 94.97%, Validation Accuracy: 73.35%\n",
      "Fold: 6\n",
      "Epoch [10/10], Loss: 0.1045, Training Accuracy: 95.12%, Validation Accuracy: 71.76%\n",
      "Fold: 7\n",
      "Epoch [10/10], Loss: 0.1047, Training Accuracy: 95.15%, Validation Accuracy: 71.96%\n",
      "Fold: 8\n",
      "Epoch [10/10], Loss: 0.1024, Training Accuracy: 95.34%, Validation Accuracy: 72.21%\n",
      "Fold: 9\n",
      "Epoch [10/10], Loss: 0.1025, Training Accuracy: 95.21%, Validation Accuracy: 73.27%\n",
      "Fold: 10\n",
      "Total Epochs: 20\n",
      "Hidden Size: 128\n",
      "Epoch [20/20], Loss: 0.0441, Training Accuracy: 98.01%, Validation Accuracy: 71.11%\n",
      "Fold: 1\n",
      "Epoch [20/20], Loss: 0.0455, Training Accuracy: 97.96%, Validation Accuracy: 71.99%\n",
      "Fold: 2\n",
      "Epoch [20/20], Loss: 0.0396, Training Accuracy: 98.31%, Validation Accuracy: 71.33%\n",
      "Fold: 3\n",
      "Epoch [20/20], Loss: 0.0357, Training Accuracy: 98.54%, Validation Accuracy: 71.17%\n",
      "Fold: 4\n",
      "Epoch [20/20], Loss: 0.0398, Training Accuracy: 98.27%, Validation Accuracy: 71.86%\n",
      "Fold: 5\n",
      "Epoch [20/20], Loss: 0.0400, Training Accuracy: 98.28%, Validation Accuracy: 71.81%\n",
      "Fold: 6\n",
      "Epoch [20/20], Loss: 0.0371, Training Accuracy: 98.36%, Validation Accuracy: 71.56%\n",
      "Fold: 7\n",
      "Epoch [20/20], Loss: 0.0386, Training Accuracy: 98.29%, Validation Accuracy: 70.89%\n",
      "Fold: 8\n",
      "Epoch [20/20], Loss: 0.0473, Training Accuracy: 97.95%, Validation Accuracy: 71.13%\n",
      "Fold: 9\n",
      "Epoch [20/20], Loss: 0.0396, Training Accuracy: 98.28%, Validation Accuracy: 71.78%\n",
      "Fold: 10\n",
      "Hidden Size: 256\n",
      "Epoch [20/20], Loss: 0.0334, Training Accuracy: 98.66%, Validation Accuracy: 72.13%\n",
      "Fold: 1\n",
      "Epoch [20/20], Loss: 0.0309, Training Accuracy: 98.71%, Validation Accuracy: 73.22%\n",
      "Fold: 2\n",
      "Epoch [20/20], Loss: 0.0333, Training Accuracy: 98.59%, Validation Accuracy: 71.73%\n",
      "Fold: 3\n",
      "Epoch [20/20], Loss: 0.0310, Training Accuracy: 98.67%, Validation Accuracy: 71.10%\n",
      "Fold: 4\n",
      "Epoch [20/20], Loss: 0.0346, Training Accuracy: 98.65%, Validation Accuracy: 72.01%\n",
      "Fold: 5\n",
      "Epoch [20/20], Loss: 0.0340, Training Accuracy: 98.54%, Validation Accuracy: 72.17%\n",
      "Fold: 6\n",
      "Epoch [20/20], Loss: 0.0307, Training Accuracy: 98.70%, Validation Accuracy: 70.92%\n",
      "Fold: 7\n",
      "Epoch [20/20], Loss: 0.0384, Training Accuracy: 98.40%, Validation Accuracy: 71.32%\n",
      "Fold: 8\n",
      "Epoch [20/20], Loss: 0.0332, Training Accuracy: 98.69%, Validation Accuracy: 71.73%\n",
      "Fold: 9\n",
      "Epoch [20/20], Loss: 0.0304, Training Accuracy: 98.71%, Validation Accuracy: 72.98%\n",
      "Fold: 10\n",
      "Hidden Size: 512\n",
      "Epoch [20/20], Loss: 0.0259, Training Accuracy: 98.95%, Validation Accuracy: 73.04%\n",
      "Fold: 1\n",
      "Epoch [20/20], Loss: 0.0277, Training Accuracy: 98.91%, Validation Accuracy: 73.51%\n",
      "Fold: 2\n",
      "Epoch [20/20], Loss: 0.0299, Training Accuracy: 98.77%, Validation Accuracy: 72.54%\n",
      "Fold: 3\n",
      "Epoch [20/20], Loss: 0.0279, Training Accuracy: 98.90%, Validation Accuracy: 71.43%\n",
      "Fold: 4\n",
      "Epoch [20/20], Loss: 0.0310, Training Accuracy: 98.75%, Validation Accuracy: 73.02%\n",
      "Fold: 5\n",
      "Epoch [20/20], Loss: 0.0234, Training Accuracy: 99.01%, Validation Accuracy: 72.26%\n",
      "Fold: 6\n",
      "Epoch [20/20], Loss: 0.0286, Training Accuracy: 98.82%, Validation Accuracy: 71.79%\n",
      "Fold: 7\n",
      "Epoch [20/20], Loss: 0.0282, Training Accuracy: 98.83%, Validation Accuracy: 72.03%\n",
      "Fold: 8\n",
      "Epoch [20/20], Loss: 0.0269, Training Accuracy: 98.94%, Validation Accuracy: 71.88%\n",
      "Fold: 9\n",
      "Epoch [20/20], Loss: 0.0268, Training Accuracy: 98.88%, Validation Accuracy: 72.69%\n",
      "Fold: 10\n"
     ]
    }
   ],
   "source": [
    "import csv\n",
    "\n",
    "embedding_dim = 768\n",
    "input_size = 768\n",
    "num_classes = 2\n",
    "hidden_list = [128,256,512]\n",
    "epoch_list = [5,10,20]\n",
    "\n",
    "best_acc = 0\n",
    "for num_epochs in epoch_list:\n",
    "    print(\"Total Epochs:\",num_epochs)\n",
    "    for hidden_size in hidden_list:\n",
    "        print(\"Hidden Size:\" ,hidden_size)\n",
    "        val_acc_list = []\n",
    "        val_acc_epoch_list = []\n",
    "        train_acc_epoch_list = []\n",
    "        loss_epoch_list = []\n",
    "\n",
    "        for fold, (train_indices, val_indices) in enumerate(kf.split(torch_dataset_train)):\n",
    "            # Create train and validation DataLoader instances for the current fold\n",
    "            rnn_model = TextLSTM(embedding_dim, hidden_size)\n",
    "            rnn_model.to(device)\n",
    "            train_sampler = torch.utils.data.SubsetRandomSampler(train_indices)\n",
    "            val_sampler = torch.utils.data.SubsetRandomSampler(val_indices)\n",
    "            train_split_loader = DataLoader(torch_dataset_train, batch_size=256, sampler=train_sampler)\n",
    "            val_split_loader = DataLoader(torch_dataset_train, batch_size=256, sampler=val_sampler)\n",
    "            val_acc, epoch_loss_list, acc_train_list, acc_val_list = train_model(rnn_model, num_epochs,train_split_loader,val_split_loader)\n",
    "            val_acc_list.append(float(val_acc))\n",
    "            print(\"Fold:\",fold+1)\n",
    "\n",
    "\n",
    "            loss_epoch_csv_name = \"./train_criteria/RNN_\"+str(num_epochs)+\"_epoch_\"+str(hidden_size)+\"_nodes_\"+str(fold+1)+\"fold_loss.csv\"\n",
    "            acc_train_csv_name = \"./train_criteria/RNN_\"+str(num_epochs)+\"_epoch_\"+str(hidden_size)+\"_nodes_\"+str(fold+1)+\"fold_t_acc.csv\"\n",
    "            acc_val_csv_name = \"./train_criteria/RNN_\"+str(num_epochs)+\"_epoch_\"+str(hidden_size)+\"_nodes_\"+str(fold+1)+\"fold_v_acc.csv\"\n",
    "            with open(loss_epoch_csv_name,'w',newline='') as file:\n",
    "                writer = csv.writer(file)\n",
    "                for element in epoch_loss_list:\n",
    "                    writer.writerow([element])\n",
    "            with open(acc_train_csv_name,'w',newline='') as file:\n",
    "                writer = csv.writer(file)\n",
    "                for element in acc_train_list:\n",
    "                    writer.writerow([element])\n",
    "            with open(acc_val_csv_name,'w',newline='') as file:\n",
    "                writer = csv.writer(file)\n",
    "                for element in acc_val_list:\n",
    "                    writer.writerow([element])\n",
    "        ave_val_acc = sum(val_acc_list)/ len(val_acc_list)\n",
    "        if ave_val_acc > best_acc:\n",
    "            best_acc = ave_val_acc\n",
    "            torch.save(rnn_model,\"./Best_RNN.pt\")\n",
    "            with open(\"./Best_RNN_Model_Hyper.txt\",'w',newline='') as file:\n",
    "                file.write(str(num_epochs)+\",\"+str(hidden_size))\n",
    "            "
   ]
  },
  {
   "cell_type": "code",
   "execution_count": 88,
   "metadata": {
    "ExecuteTime": {
     "end_time": "2023-04-28T04:13:26.807385Z",
     "start_time": "2023-04-28T04:13:26.763814Z"
    }
   },
   "outputs": [],
   "source": [
    "best_rnn_model = torch.load(\"./Best_RNN.pt\")"
   ]
  },
  {
   "cell_type": "code",
   "execution_count": 89,
   "metadata": {
    "ExecuteTime": {
     "end_time": "2023-04-28T04:13:30.370324Z",
     "start_time": "2023-04-28T04:13:29.622478Z"
    }
   },
   "outputs": [
    {
     "name": "stdout",
     "output_type": "stream",
     "text": [
      "Test accuracy: 73.49%\n"
     ]
    }
   ],
   "source": [
    "test_accuracy_2 = evaluate(best_rnn_model, test_loader_rnn, device)\n",
    "print(\"Test accuracy: {:.2f}%\".format(test_accuracy_2 * 100))"
   ]
  },
  {
   "cell_type": "markdown",
   "metadata": {},
   "source": [
    "## Plot performance comparison"
   ]
  },
  {
   "cell_type": "code",
   "execution_count": 52,
   "metadata": {
    "ExecuteTime": {
     "end_time": "2023-04-27T22:09:16.911502Z",
     "start_time": "2023-04-27T22:09:16.869840Z"
    }
   },
   "outputs": [],
   "source": [
    "import matplotlib.pyplot as plt"
   ]
  },
  {
   "cell_type": "code",
   "execution_count": 90,
   "metadata": {
    "ExecuteTime": {
     "end_time": "2023-04-28T04:13:48.636169Z",
     "start_time": "2023-04-28T04:13:48.542929Z"
    }
   },
   "outputs": [
    {
     "data": {
      "image/png": "[encoded data removed]",
      "text/plain": [
       "<Figure size 1000x500 with 1 Axes>"
      ]
     },
     "metadata": {},
     "output_type": "display_data"
    }
   ],
   "source": [
    "# creating the dataset\n",
    "data = {'Logistic Regression':0.6861, 'SVM':0.6874, 'FNN':0.7250, 'RNN':0.7349}\n",
    "models = list(data.keys())\n",
    "accuracy = list(data.values())\n",
    "  \n",
    "fig = plt.figure(figsize = (10, 5))\n",
    " \n",
    "# creating the bar plot\n",
    "plt.bar(models, accuracy, width = 0.4)\n",
    "\n",
    "plt.ylim(0.6, 0.8)\n",
    "\n",
    "plt.xlabel(\"Model\")\n",
    "plt.ylabel(\"Accuracy\")\n",
    "plt.title(\"Performance comparison\")\n",
    "\n",
    "plt.show()"
   ]
  },
  {
   "cell_type": "markdown",
   "metadata": {},
   "source": [
    "### Validation_acc vs Train_acc"
   ]
  },
  {
   "cell_type": "code",
   "execution_count": 126,
   "metadata": {
    "ExecuteTime": {
     "end_time": "2023-04-28T05:34:34.242211Z",
     "start_time": "2023-04-28T05:34:34.135003Z"
    }
   },
   "outputs": [
    {
     "data": {
      "text/plain": [
       "<matplotlib.legend.Legend at 0x7f469f986b60>"
      ]
     },
     "execution_count": 126,
     "metadata": {},
     "output_type": "execute_result"
    },
    {
     "data": {
      "image/png": "[encoded data removed]",
      "text/plain": [
       "<Figure size 640x480 with 1 Axes>"
      ]
     },
     "metadata": {},
     "output_type": "display_data"
    }
   ],
   "source": [
    "x1 = np.array([1,2,3,4,5])\n",
    "y1 = np.array([67.05,70.64,73.93,76.92,79.86])\n",
    "plt.plot(x1, y1)\n",
    "\n",
    "x2 = np.array([1,2,3,4,5])\n",
    "y2 = np.array([69.08,71.15,72.07,72.50,72.86])\n",
    "plt.plot(x2,y2)\n",
    "plt.xticks([1,2,3,4,5])\n",
    "plt.xlabel(\"Epoch\")\n",
    "plt.ylabel(\"Accuracy/%\")\n",
    "plt.ylim(65,95)\n",
    "plt.title(\"Val_acc vs Trn_acc for 5 Epochs\")\n",
    "plt.legend([\"Trn_acc\", \"Val_acc\"], loc =\"lower right\")"
   ]
  },
  {
   "cell_type": "code",
   "execution_count": 127,
   "metadata": {
    "ExecuteTime": {
     "end_time": "2023-04-28T05:34:40.182324Z",
     "start_time": "2023-04-28T05:34:40.059025Z"
    }
   },
   "outputs": [
    {
     "data": {
      "text/plain": [
       "<matplotlib.legend.Legend at 0x7f46a01196f0>"
      ]
     },
     "execution_count": 127,
     "metadata": {},
     "output_type": "execute_result"
    },
    {
     "data": {
      "image/png": "[encoded data removed]",
      "text/plain": [
       "<Figure size 640x480 with 1 Axes>"
      ]
     },
     "metadata": {},
     "output_type": "display_data"
    }
   ],
   "source": [
    "x1 = np.array([1,2,3,4,5,6,7,8,9,10])\n",
    "y1 = np.array([66.25,70.87,73.81,76.93,79.35,82.14,84.74,87.26,89.45,91.39])\n",
    "plt.plot(x1, y1)\n",
    "\n",
    "y2 = np.array([69.20,71.31,71.97,72.65,72.88,72.95,73.08,72.47,72.60,73.11])\n",
    "plt.plot(x1,y2)\n",
    "plt.xticks([1,2,3,4,5,6,7,8,9,10])\n",
    "plt.xlabel(\"Epoch\")\n",
    "plt.ylim(65,95)\n",
    "plt.ylabel(\"Accuracy/%\")\n",
    "plt.title(\"Val_acc vs Trn_acc for 10 Epochs\")\n",
    "plt.legend([\"Trn_acc\", \"Val_acc\"], loc =\"lower right\")"
   ]
  },
  {
   "cell_type": "code",
   "execution_count": null,
   "metadata": {},
   "outputs": [],
   "source": []
  }
 ],
 "metadata": {
  "kernelspec": {
   "display_name": "Python 3 (ipykernel)",
   "language": "python",
   "name": "python3"
  },
  "language_info": {
   "codemirror_mode": {
    "name": "ipython",
    "version": 3
   },
   "file_extension": ".py",
   "mimetype": "text/x-python",
   "name": "python",
   "nbconvert_exporter": "python",
   "pygments_lexer": "ipython3",
   "version": "3.9.7"
  }
 },
 "nbformat": 4,
 "nbformat_minor": 1
}
